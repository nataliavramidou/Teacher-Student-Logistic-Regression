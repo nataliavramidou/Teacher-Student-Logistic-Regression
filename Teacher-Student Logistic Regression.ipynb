{
 "cells": [
  {
   "cell_type": "markdown",
   "id": "2445d770",
   "metadata": {},
   "source": [
    "## Import Toxicity Dataset"
   ]
  },
  {
   "cell_type": "code",
   "execution_count": 4,
   "id": "c6c2ca5d",
   "metadata": {},
   "outputs": [],
   "source": [
    "import pandas as pd \n",
    "import numpy as np\n",
    "\n",
    "def load_dataset():\n",
    "  path = 'offenseval-gr-training-v1/offenseval-gr-training-v1.tsv'\n",
    "  df = pd.read_csv(path, delimiter='\\t', header=0, usecols=['id', 'tweet', 'subtask_a'])\n",
    "\n",
    "  x = df['tweet'].to_numpy()\n",
    "  y = df['subtask_a'].apply(lambda value:1 if value == 'OFF' else 0).to_numpy()\n",
    "\n",
    "  path_test = 'offenseval-gr-testsetv1/offenseval-gr-test-v1.tsv'\n",
    "  path_labels = 'offenseval-gr-testsetv1/offenseval-gr-labela-v1.csv'\n",
    "\n",
    "  df_test = pd.read_csv(path_test, delimiter='\\t', header=0, usecols=['id', 'tweet'])\n",
    "  df_labels = pd.read_csv(path_labels , names=['id', 'subtask_a'])\n",
    "\n",
    "\n",
    "  df_test = df_test.merge(df_labels, on='id')\n",
    "  del df_labels\n",
    "\n",
    "  x_test = df_test['tweet'].to_numpy()\n",
    "  y_test = df_test['subtask_a'].apply(lambda value:1 if value == 'OFF' else 0).to_numpy()\n",
    "\n",
    "  return(x, y, x_test, y_test)\n",
    "\n",
    "x, y, x_test, y_test = load_dataset()"
   ]
  },
  {
   "cell_type": "code",
   "execution_count": 6,
   "id": "ce76dec1",
   "metadata": {},
   "outputs": [
    {
     "name": "stdout",
     "output_type": "stream",
     "text": [
      "2486 6257\n"
     ]
    }
   ],
   "source": [
    "# find how balanced is the train - test dataset\n",
    "\n",
    "total_train_examples = x.size\n",
    "total_test_examples = x_test.size\n",
    "\n",
    "off_train_examples = np.count_nonzero(y)\n",
    "off_test_examples = np.count_nonzero(y_test)\n",
    "\n",
    "not_off_train_examples = total_train_examples - off_train_examples\n",
    "not_off_test_examples = total_test_examples - off_test_examples"
   ]
  },
  {
   "cell_type": "code",
   "execution_count": 7,
   "id": "7ed014f2",
   "metadata": {},
   "outputs": [
    {
     "data": {
      "image/png": "[encoded data removed]",
      "text/plain": [
       "<Figure size 432x288 with 1 Axes>"
      ]
     },
     "metadata": {
      "needs_background": "light"
     },
     "output_type": "display_data"
    }
   ],
   "source": [
    "import matplotlib.pyplot as plt\n",
    "\n",
    "fig, ax = plt.subplots()\n",
    "\n",
    "tabs = ['Offensive', 'Not Offensive']\n",
    "counts = [off_train_examples, not_off_train_examples]\n",
    "bar_colors = ['tab:red', 'tab:blue']\n",
    "\n",
    "ax.bar(tabs, counts, color=bar_colors, width=0.5, bottom=None, align='center')\n",
    "\n",
    "\n",
    "ax.set_ylabel('Number of Tweets')\n",
    "ax.set_title('OGTD - Train Dataset')\n",
    "\n",
    "plt.show()"
   ]
  },
  {
   "cell_type": "code",
   "execution_count": 9,
   "id": "96425cac",
   "metadata": {},
   "outputs": [
    {
     "data": {
      "image/png": "[encoded data removed]",
      "text/plain": [
       "<Figure size 432x288 with 1 Axes>"
      ]
     },
     "metadata": {
      "needs_background": "light"
     },
     "output_type": "display_data"
    }
   ],
   "source": [
    "fig, ax = plt.subplots()\n",
    "\n",
    "tabs = ['Offensive', 'Not Offensive']\n",
    "counts = [off_test_examples, not_off_test_examples]\n",
    "bar_colors = ['tab:red', 'tab:blue']\n",
    "\n",
    "ax.bar(tabs, counts, color=bar_colors, width=0.5, bottom=None, align='center')\n",
    "\n",
    "\n",
    "ax.set_ylabel('Number of Tweets')\n",
    "ax.set_title('OGTD - Test Dataset')\n",
    "\n",
    "plt.show()"
   ]
  },
  {
   "cell_type": "code",
   "execution_count": null,
   "id": "416c8c3d",
   "metadata": {},
   "outputs": [],
   "source": []
  }
 ],
 "metadata": {
  "kernelspec": {
   "display_name": "Python 3 (ipykernel)",
   "language": "python",
   "name": "python3"
  },
  "language_info": {
   "codemirror_mode": {
    "name": "ipython",
    "version": 3
   },
   "file_extension": ".py",
   "mimetype": "text/x-python",
   "name": "python",
   "nbconvert_exporter": "python",
   "pygments_lexer": "ipython3",
   "version": "3.9.7"
  }
 },
 "nbformat": 4,
 "nbformat_minor": 5
}
